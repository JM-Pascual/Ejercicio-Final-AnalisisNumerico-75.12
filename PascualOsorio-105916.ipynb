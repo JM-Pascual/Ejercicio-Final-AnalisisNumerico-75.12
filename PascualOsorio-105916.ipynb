{
 "cells": [
  {
   "cell_type": "markdown",
   "id": "88a95857",
   "metadata": {},
   "source": [
    "![Logo-FIUBA](https://cms.fi.uba.ar/uploads/logo_0e621ee7ba.png)\n",
    "\n",
    "# <u>Trabajo individual / Coloquio integrador<u>\n",
    "\n",
    "- Pascual Osorio, Juan Manuel\n",
    "- Fecha de exámen: 11/02/2022\n",
    "- Padrón: 105916"
   ]
  },
  {
   "cell_type": "code",
   "execution_count": 45,
   "id": "1e8185be",
   "metadata": {},
   "outputs": [],
   "source": [
    "#-------------------------------------------------------------------------------------------------------------------------#"
   ]
  },
  {
   "cell_type": "markdown",
   "id": "85415e2f",
   "metadata": {},
   "source": [
    "## Ejercicios a resolver:\n",
    "![Consignas](https://cdn.discordapp.com/attachments/901276566741463040/941024120898994238/unknown.png)"
   ]
  },
  {
   "cell_type": "code",
   "execution_count": 46,
   "id": "f01e8a18",
   "metadata": {},
   "outputs": [],
   "source": [
    "#-------------------------------------------------------------------------------------------------------------------------#"
   ]
  },
  {
   "cell_type": "markdown",
   "id": "6b88d7a3",
   "metadata": {},
   "source": [
    "#### Importo los módulos a utilizar en el trabajo:"
   ]
  },
  {
   "cell_type": "code",
   "execution_count": 47,
   "id": "97ea08cd",
   "metadata": {},
   "outputs": [],
   "source": [
    "import numpy as np\n",
    "import sympy as sp\n",
    "import pandas as pd\n",
    "import matplotlib.pyplot as plt\n",
    "from scipy import optimize as op # Función optmize ---> Permite resolver las ecuaciones no lineales de los métodos"
   ]
  },
  {
   "cell_type": "code",
   "execution_count": 48,
   "id": "3b442782",
   "metadata": {},
   "outputs": [],
   "source": [
    "#-------------------------------------------------------------------------------------------------------------------------#"
   ]
  },
  {
   "cell_type": "markdown",
   "id": "366400ef",
   "metadata": {},
   "source": [
    "### Número de padrón: 105916, por lo que el último dígito de este es 6\n",
    "![NumeroPadron](https://cdn.discordapp.com/attachments/901276566741463040/940966823820689438/unknown.png)"
   ]
  },
  {
   "cell_type": "code",
   "execution_count": 49,
   "id": "7731a810",
   "metadata": {},
   "outputs": [],
   "source": [
    "# Defino los pasos que utilizan los métodos:\n",
    "\n",
    "hDiferenciasRegresivasO4 = 0.5\n",
    "hEulerExplicito = 0.125\n",
    "\n",
    "# Sabiendo que h = (b-a)/n ---> n = (b-a)/h\n",
    "\n",
    "nDiferenciasRegresivasO4 = 20 \n",
    "nEulerExplicito = 80\n",
    "#-------------------------------------------------------------------------------------------------------------------------#\n",
    "\n",
    "# Defino las constantes dentro de la ecuación f(t,P), el valor semilla y el intervalo de trabajo:\n",
    "\n",
    "r = 0.8\n",
    "e = 0.25\n",
    "k = 8000\n",
    "p0 = 1000 # Valor inicial \n",
    "a = 0\n",
    "b = 10"
   ]
  },
  {
   "cell_type": "code",
   "execution_count": 50,
   "id": "52a1bf6e",
   "metadata": {},
   "outputs": [],
   "source": [
    "#-------------------------------------------------------------------------------------------------------------------------#"
   ]
  },
  {
   "cell_type": "markdown",
   "id": "8eb84fc6",
   "metadata": {},
   "source": [
    "![Funcion](https://cdn.discordapp.com/attachments/901276566741463040/941029145851359272/unknown.png)"
   ]
  },
  {
   "cell_type": "code",
   "execution_count": 51,
   "id": "c4fe0822",
   "metadata": {},
   "outputs": [],
   "source": [
    "# Defino la función f(t,P), sabiendo que: f(t,P) = dP/dt\n",
    "\n",
    "def f(t, p):\n",
    "    return (p * (r - e - (r*p/k))) "
   ]
  },
  {
   "cell_type": "code",
   "execution_count": 52,
   "id": "13016254",
   "metadata": {},
   "outputs": [],
   "source": [
    "#-------------------------------------------------------------------------------------------------------------------------#"
   ]
  },
  {
   "cell_type": "markdown",
   "id": "c0fa960b",
   "metadata": {},
   "source": [
    "# <u>Primera parte:<u>"
   ]
  },
  {
   "cell_type": "markdown",
   "id": "0cf5ff16",
   "metadata": {},
   "source": [
    "# - Método de las diferencias regresivas (Orden 4):\n",
    "\n",
    "### Debido a que el método a utilizar es un método multipaso de orden 4, requiero de 4 valores semilla para comenzar a iterar. Estos corresponde a w0 (El valor inicial, que corresponde a un dato del planteo del ejercicio), w1, w2, w3.  W1, w2 y w3 deben despejarse utilizando algún método de igual orden (osea 4), el predilecto a cubrir este rol es el método de Runge-Kutta de orden 4, ya que es de paso simple y tiene una formulación cómoda a la hora de programarlo."
   ]
  },
  {
   "cell_type": "code",
   "execution_count": 53,
   "id": "fb3d0944",
   "metadata": {},
   "outputs": [],
   "source": [
    "def rkOrden4_array(a, b, n, f, w0):\n",
    "    array = []\n",
    "    h = (b - a) / n\n",
    "    tActual = a\n",
    "    wActual = w0\n",
    "    array.append(wActual)\n",
    "    for i in range(n):\n",
    "        wAnterior = wActual\n",
    "        k1 = h * f(tActual, wAnterior)\n",
    "        k2 = h * f(tActual + (h/2), wAnterior + (1/2*k1))\n",
    "        k3 = h * f(tActual + (h/2), wAnterior + (1/2*k2))\n",
    "        k4 = h * f(tActual + h, wAnterior + k3)\n",
    "        wActual = wAnterior + 1/6 * (k1 + 2*k2 + 2*k3 + k4)\n",
    "        tActual += h\n",
    "        array.append(wActual)\n",
    "    return array"
   ]
  },
  {
   "cell_type": "code",
   "execution_count": 54,
   "id": "fd137354",
   "metadata": {},
   "outputs": [],
   "source": [
    "resultadosRungeKuttaOrden4 = rkOrden4_array(a, b, nDiferenciasRegresivasO4, f, p0)\n",
    "w1_rko4 = resultadosRungeKuttaOrden4[1]\n",
    "w2_rko4 = resultadosRungeKuttaOrden4[2]\n",
    "w3_rko4 = resultadosRungeKuttaOrden4[3]\n",
    "valoresSemillaRungeKuttaO4 = [w1_rko4, w2_rko4, w3_rko4]"
   ]
  },
  {
   "cell_type": "code",
   "execution_count": 55,
   "id": "2e5444a2",
   "metadata": {},
   "outputs": [
    {
     "data": {
      "text/html": [
       "<div>\n",
       "<style scoped>\n",
       "    .dataframe tbody tr th:only-of-type {\n",
       "        vertical-align: middle;\n",
       "    }\n",
       "\n",
       "    .dataframe tbody tr th {\n",
       "        vertical-align: top;\n",
       "    }\n",
       "\n",
       "    .dataframe thead th {\n",
       "        text-align: right;\n",
       "    }\n",
       "</style>\n",
       "<table border=\"1\" class=\"dataframe\">\n",
       "  <thead>\n",
       "    <tr style=\"text-align: right;\">\n",
       "      <th></th>\n",
       "      <th>Resultado de las primeras 3 iteraciones de Runge-Kutta de orden 4</th>\n",
       "    </tr>\n",
       "  </thead>\n",
       "  <tbody>\n",
       "    <tr>\n",
       "      <th>0</th>\n",
       "      <td>1244.882575</td>\n",
       "    </tr>\n",
       "    <tr>\n",
       "      <th>1</th>\n",
       "      <td>1529.353290</td>\n",
       "    </tr>\n",
       "    <tr>\n",
       "      <th>2</th>\n",
       "      <td>1850.559177</td>\n",
       "    </tr>\n",
       "  </tbody>\n",
       "</table>\n",
       "</div>"
      ],
      "text/plain": [
       "   Resultado de las primeras 3 iteraciones de Runge-Kutta de orden 4\n",
       "0                                        1244.882575                \n",
       "1                                        1529.353290                \n",
       "2                                        1850.559177                "
      ]
     },
     "execution_count": 55,
     "metadata": {},
     "output_type": "execute_result"
    }
   ],
   "source": [
    "pd.DataFrame({\"Resultado de las primeras 3 iteraciones de Runge-Kutta de orden 4\" : valoresSemillaRungeKuttaO4})"
   ]
  },
  {
   "cell_type": "code",
   "execution_count": 56,
   "id": "d5276a9d",
   "metadata": {},
   "outputs": [],
   "source": [
    "#-------------------------------------------------------------------------------------------------------------------------#"
   ]
  },
  {
   "cell_type": "markdown",
   "id": "c8be3dd5",
   "metadata": {},
   "source": [
    "### El método de Diferencias Regresivas es un método de paso múltiple, similar a los mét. de Adams-Moulton en el sentido de que es de carácter Implícito (Se encuentran valores de la iteración actual a ambos lados de la igualdad, dando lugar a una ecuación no lineal, la cual debe resolverse utilizando alguna de las herramientas vistas en clase). Su deducción nace de un planteo en el que se busca aproximar su derivada a través de puntos anteriores y una interpolación polinomial que aproxime a y(t)."
   ]
  },
  {
   "cell_type": "code",
   "execution_count": 57,
   "id": "353250ef",
   "metadata": {},
   "outputs": [],
   "source": [
    "# w0 ---> w_{i-2}\n",
    "# w1 ---> w_{i-1}\n",
    "# w2 ---> w_{i}\n",
    "# w3 ---> W_{i+1}\n",
    "\n",
    "def fDiferenciasRegresivasOrden4(w4, args):\n",
    "    tActual,w0,w1,w2,w3,h=args\n",
    "    return np.abs((-3*w0 + 16*w1 - 36*w2 + 48*w3 + 12*h*f(tActual, w4))/25 - w4)"
   ]
  },
  {
   "cell_type": "code",
   "execution_count": 58,
   "id": "f1463e73",
   "metadata": {},
   "outputs": [],
   "source": [
    "def diferenciasRegresivasOrden4_array(a, b, n, f, w0, w1, w2, w3):\n",
    "    w = []\n",
    "    w.append(w0)\n",
    "    w.append(w1)\n",
    "    w.append(w2)\n",
    "    w.append(w3)\n",
    "    h = (b - a) / n\n",
    "    tActual = a + 3*h\n",
    "    for i in range(3, n):\n",
    "        tActual += h\n",
    "        w4 = op.minimize(fDiferenciasRegresivasOrden4, w3, args=[tActual,w0,w1,w2,w3,h])[\"x\"]\n",
    "        w.append(w4[0])\n",
    "        w0 = w1\n",
    "        w1 = w2\n",
    "        w2 = w3\n",
    "        w3 = w4\n",
    "    return w"
   ]
  },
  {
   "cell_type": "code",
   "execution_count": 59,
   "id": "754e26ac",
   "metadata": {},
   "outputs": [],
   "source": [
    "#-------------------------------------------------------------------------------------------------------------------------#"
   ]
  },
  {
   "cell_type": "code",
   "execution_count": 86,
   "id": "e8273a06",
   "metadata": {},
   "outputs": [],
   "source": [
    "resultadosDiferenciasRegresivasOrden4 = diferenciasRegresivasOrden4_array(a, b, nDiferenciasRegresivasO4, f, p0, w1_rko4, w2_rko4, w3_rko4)\n",
    "tDiferenciasRegresivasO4 = np.linspace(a, b, nDiferenciasRegresivasO4+1)"
   ]
  },
  {
   "cell_type": "code",
   "execution_count": 88,
   "id": "fda333ef",
   "metadata": {},
   "outputs": [
    {
     "data": {
      "text/html": [
       "<div>\n",
       "<style scoped>\n",
       "    .dataframe tbody tr th:only-of-type {\n",
       "        vertical-align: middle;\n",
       "    }\n",
       "\n",
       "    .dataframe tbody tr th {\n",
       "        vertical-align: top;\n",
       "    }\n",
       "\n",
       "    .dataframe thead th {\n",
       "        text-align: right;\n",
       "    }\n",
       "</style>\n",
       "<table border=\"1\" class=\"dataframe\">\n",
       "  <thead>\n",
       "    <tr style=\"text-align: right;\">\n",
       "      <th></th>\n",
       "      <th>Valores de t</th>\n",
       "      <th>Aproximaciones de P obtenidas mediante el mét. de Diferencias Regresivas Orden 4</th>\n",
       "    </tr>\n",
       "  </thead>\n",
       "  <tbody>\n",
       "    <tr>\n",
       "      <th>0</th>\n",
       "      <td>0.0</td>\n",
       "      <td>1000.000000</td>\n",
       "    </tr>\n",
       "    <tr>\n",
       "      <th>1</th>\n",
       "      <td>0.5</td>\n",
       "      <td>1244.882575</td>\n",
       "    </tr>\n",
       "    <tr>\n",
       "      <th>2</th>\n",
       "      <td>1.0</td>\n",
       "      <td>1529.353290</td>\n",
       "    </tr>\n",
       "    <tr>\n",
       "      <th>3</th>\n",
       "      <td>1.5</td>\n",
       "      <td>1850.559177</td>\n",
       "    </tr>\n",
       "    <tr>\n",
       "      <th>4</th>\n",
       "      <td>2.0</td>\n",
       "      <td>2201.817637</td>\n",
       "    </tr>\n",
       "    <tr>\n",
       "      <th>5</th>\n",
       "      <td>2.5</td>\n",
       "      <td>2572.831516</td>\n",
       "    </tr>\n",
       "    <tr>\n",
       "      <th>6</th>\n",
       "      <td>3.0</td>\n",
       "      <td>2950.588931</td>\n",
       "    </tr>\n",
       "    <tr>\n",
       "      <th>7</th>\n",
       "      <td>3.5</td>\n",
       "      <td>3321.023910</td>\n",
       "    </tr>\n",
       "    <tr>\n",
       "      <th>8</th>\n",
       "      <td>4.0</td>\n",
       "      <td>3671.051827</td>\n",
       "    </tr>\n",
       "    <tr>\n",
       "      <th>9</th>\n",
       "      <td>4.5</td>\n",
       "      <td>3990.358470</td>\n",
       "    </tr>\n",
       "    <tr>\n",
       "      <th>10</th>\n",
       "      <td>5.0</td>\n",
       "      <td>4272.431146</td>\n",
       "    </tr>\n",
       "    <tr>\n",
       "      <th>11</th>\n",
       "      <td>5.5</td>\n",
       "      <td>4514.664890</td>\n",
       "    </tr>\n",
       "    <tr>\n",
       "      <th>12</th>\n",
       "      <td>6.0</td>\n",
       "      <td>4717.731707</td>\n",
       "    </tr>\n",
       "    <tr>\n",
       "      <th>13</th>\n",
       "      <td>6.5</td>\n",
       "      <td>4884.585433</td>\n",
       "    </tr>\n",
       "    <tr>\n",
       "      <th>14</th>\n",
       "      <td>7.0</td>\n",
       "      <td>5019.454046</td>\n",
       "    </tr>\n",
       "    <tr>\n",
       "      <th>15</th>\n",
       "      <td>7.5</td>\n",
       "      <td>5127.030656</td>\n",
       "    </tr>\n",
       "    <tr>\n",
       "      <th>16</th>\n",
       "      <td>8.0</td>\n",
       "      <td>5211.925996</td>\n",
       "    </tr>\n",
       "    <tr>\n",
       "      <th>17</th>\n",
       "      <td>8.5</td>\n",
       "      <td>5278.352510</td>\n",
       "    </tr>\n",
       "    <tr>\n",
       "      <th>18</th>\n",
       "      <td>9.0</td>\n",
       "      <td>5329.977684</td>\n",
       "    </tr>\n",
       "    <tr>\n",
       "      <th>19</th>\n",
       "      <td>9.5</td>\n",
       "      <td>5369.887095</td>\n",
       "    </tr>\n",
       "    <tr>\n",
       "      <th>20</th>\n",
       "      <td>10.0</td>\n",
       "      <td>5400.611991</td>\n",
       "    </tr>\n",
       "  </tbody>\n",
       "</table>\n",
       "</div>"
      ],
      "text/plain": [
       "    Valores de t  \\\n",
       "0            0.0   \n",
       "1            0.5   \n",
       "2            1.0   \n",
       "3            1.5   \n",
       "4            2.0   \n",
       "5            2.5   \n",
       "6            3.0   \n",
       "7            3.5   \n",
       "8            4.0   \n",
       "9            4.5   \n",
       "10           5.0   \n",
       "11           5.5   \n",
       "12           6.0   \n",
       "13           6.5   \n",
       "14           7.0   \n",
       "15           7.5   \n",
       "16           8.0   \n",
       "17           8.5   \n",
       "18           9.0   \n",
       "19           9.5   \n",
       "20          10.0   \n",
       "\n",
       "    Aproximaciones de P obtenidas mediante el mét. de Diferencias Regresivas Orden 4  \n",
       "0                                         1000.000000                                 \n",
       "1                                         1244.882575                                 \n",
       "2                                         1529.353290                                 \n",
       "3                                         1850.559177                                 \n",
       "4                                         2201.817637                                 \n",
       "5                                         2572.831516                                 \n",
       "6                                         2950.588931                                 \n",
       "7                                         3321.023910                                 \n",
       "8                                         3671.051827                                 \n",
       "9                                         3990.358470                                 \n",
       "10                                        4272.431146                                 \n",
       "11                                        4514.664890                                 \n",
       "12                                        4717.731707                                 \n",
       "13                                        4884.585433                                 \n",
       "14                                        5019.454046                                 \n",
       "15                                        5127.030656                                 \n",
       "16                                        5211.925996                                 \n",
       "17                                        5278.352510                                 \n",
       "18                                        5329.977684                                 \n",
       "19                                        5369.887095                                 \n",
       "20                                        5400.611991                                 "
      ]
     },
     "execution_count": 88,
     "metadata": {},
     "output_type": "execute_result"
    }
   ],
   "source": [
    "pd.DataFrame({\"Valores de t\" : tDiferenciasRegresivasO4, \"Aproximaciones de P obtenidas mediante el mét. de Diferencias Regresivas Orden 4\" : resultadosDiferenciasRegresivasOrden4})"
   ]
  },
  {
   "cell_type": "code",
   "execution_count": 62,
   "id": "4cc3280a",
   "metadata": {},
   "outputs": [],
   "source": [
    "#-------------------------------------------------------------------------------------------------------------------------#"
   ]
  },
  {
   "cell_type": "markdown",
   "id": "c1aa7733",
   "metadata": {},
   "source": [
    "# - Interpolación por método de Hermite (Segmentado)\n",
    "\n",
    "### Debido a que dispongo de la derivada de P(t) (Osea f(t,P)), utilizar un método de Hermite para interpolar tiene mucho sentido práctico, ya que solventa el principal problema del método. Opte por la versión segmentada del método de Hermite para evitar problemas de estabilidad asociados al Fenómeno de Runge (Ya que recordemos que el grado del polinomio interpolante de Hermite al utilizar el método \"clásico\" es 2n+1, lo cual en esta situación daría lugar a un polinomio de grado alto, es decir, inestable bajo los parámetros de los resultados de interpolaciones). "
   ]
  },
  {
   "cell_type": "code",
   "execution_count": 63,
   "id": "2440a5eb",
   "metadata": {},
   "outputs": [],
   "source": [
    "def hermiteSegmentado(df,x):\n",
    "    n = len(df)\n",
    "    A = np.zeros([2*n,5])\n",
    "    for f in range(0,2*n,2):\n",
    "        A[f,0] = df['x'][f/2]\n",
    "        A[f+1,0] = df['x'][f/2]\n",
    "        A[f,1] = df['y'][f/2]\n",
    "        A[f+1,1] = df['y'][f/2]  \n",
    "        A[f,2] = df['dy'][f/2]\n",
    "    for i in range(0,2*n-2,2):   \n",
    "        A[i+1,2] = (A[i+2,1]-A[i+1,1])/(A[i+2,0]-A[i+1,0])\n",
    "    contador=1\n",
    "    for j in range(3,5):\n",
    "                for i in range(0,2*n-contador-1):\n",
    "                    A[i,j] = (A[i+1,j-1]-A[i,j-1])/(A[i+contador+1,0]-A[i,0])\n",
    "                contador+=1  \n",
    "    a,b,c,d = [],[],[],[]\n",
    "    for i in range(0,2*n-2,2):\n",
    "        aux_a = A[i,1] \n",
    "        a.append(aux_a)\n",
    "        aux_b = A[i,2] \n",
    "        b.append(aux_b)\n",
    "        aux_c = A[i,3] \n",
    "        c.append(aux_c)\n",
    "        aux_d = A[i,4] \n",
    "        d.append(aux_d)\n",
    "    hi =[]\n",
    "    for k in range(0,n-1):\n",
    "        if (df['x'][k] == x):\n",
    "            hi = df['y'][k]\n",
    "        elif (x >= df['x'][k] and x < df['x'][k+1]):\n",
    "             hi = a[k] + b[k]*(x - df['x'][k]) + c[k]*(x - df['x'][k])**2 + d[k]*(x - df['x'][k+1])*(x - df['x'][k])**2\n",
    "    return hi"
   ]
  },
  {
   "cell_type": "code",
   "execution_count": 64,
   "id": "938b41f0",
   "metadata": {},
   "outputs": [],
   "source": [
    "#-------------------------------------------------------------------------------------------------------------------------#"
   ]
  },
  {
   "cell_type": "code",
   "execution_count": 65,
   "id": "8afe763e",
   "metadata": {},
   "outputs": [],
   "source": [
    "# Genero un array que contenga los valores de f(ti, Pi) para cada aproximación de P obtenida:\n",
    "\n",
    "resultadosDerivadaDiferenciasRegresivasO4 = []\n",
    "for i in range(nDiferenciasRegresivasO4+1):\n",
    "    resultadosDerivadaDiferenciasRegresivasO4.append(f(tDiferenciasRegresivasO4[i], resultadosDiferenciasRegresivasOrden4[i]))"
   ]
  },
  {
   "cell_type": "markdown",
   "id": "23610964",
   "metadata": {},
   "source": [
    "### Debido a que la función de Hermite (Segmentado) toma como parámetro una matriz de datos en forma de DataFrame, necesito exportar mis resultados de los diversos arrays obtenidos a una matriz con el formato:  \n",
    "### [ti, Pi, f(ti, Pi)]"
   ]
  },
  {
   "cell_type": "code",
   "execution_count": 90,
   "id": "1d5bcd7a",
   "metadata": {},
   "outputs": [],
   "source": [
    "matrizDeDatos = [] # Debo ingresar los datos en un dataframe que tenga la estructura [ti, Pi, f(ti, Pi)]\n",
    "for i in range(nDiferenciasRegresivasO4+1):\n",
    "    matrizDeDatos.append([tDiferenciasRegresivasO4[i], resultadosDiferenciasRegresivasOrden4[i], resultadosDerivadaDiferenciasRegresivasO4[i]])"
   ]
  },
  {
   "cell_type": "code",
   "execution_count": 67,
   "id": "79ed2c2e",
   "metadata": {},
   "outputs": [],
   "source": [
    "#-------------------------------------------------------------------------------------------------------------------------#"
   ]
  },
  {
   "cell_type": "code",
   "execution_count": 68,
   "id": "6ed5b607",
   "metadata": {},
   "outputs": [],
   "source": [
    "# Genero una lista de los valores de t que deseo interpolar:\n",
    "\n",
    "tHermite = [1.25, 3.75, 6.25, 8.75]"
   ]
  },
  {
   "cell_type": "code",
   "execution_count": 69,
   "id": "6533d95b",
   "metadata": {},
   "outputs": [],
   "source": [
    "# Genero el data frame que necesita el método\n",
    "\n",
    "datosDiferenciasRegresivasOrden4 = pd.DataFrame(matrizDeDatos, columns = ['x', 'y', 'dy'])"
   ]
  },
  {
   "cell_type": "code",
   "execution_count": 70,
   "id": "89ae8a2c",
   "metadata": {},
   "outputs": [],
   "source": [
    "resultadosHermite = []\n",
    "for i in range(len(tHermite)):\n",
    "    resultadosHermite.append(hermiteSegmentado(datosDiferenciasRegresivasOrden4, tHermite[i]))"
   ]
  },
  {
   "cell_type": "code",
   "execution_count": 71,
   "id": "16f12fe0",
   "metadata": {},
   "outputs": [
    {
     "data": {
      "text/html": [
       "<div>\n",
       "<style scoped>\n",
       "    .dataframe tbody tr th:only-of-type {\n",
       "        vertical-align: middle;\n",
       "    }\n",
       "\n",
       "    .dataframe tbody tr th {\n",
       "        vertical-align: top;\n",
       "    }\n",
       "\n",
       "    .dataframe thead th {\n",
       "        text-align: right;\n",
       "    }\n",
       "</style>\n",
       "<table border=\"1\" class=\"dataframe\">\n",
       "  <thead>\n",
       "    <tr style=\"text-align: right;\">\n",
       "      <th></th>\n",
       "      <th>Valores de t interpolados</th>\n",
       "      <th>Resultados de Hermite Segmentado</th>\n",
       "    </tr>\n",
       "  </thead>\n",
       "  <tbody>\n",
       "    <tr>\n",
       "      <th>0</th>\n",
       "      <td>1.25</td>\n",
       "      <td>1685.700080</td>\n",
       "    </tr>\n",
       "    <tr>\n",
       "      <th>1</th>\n",
       "      <td>3.75</td>\n",
       "      <td>3499.302044</td>\n",
       "    </tr>\n",
       "    <tr>\n",
       "      <th>2</th>\n",
       "      <td>6.25</td>\n",
       "      <td>4805.436613</td>\n",
       "    </tr>\n",
       "    <tr>\n",
       "      <th>3</th>\n",
       "      <td>8.75</td>\n",
       "      <td>5305.813337</td>\n",
       "    </tr>\n",
       "  </tbody>\n",
       "</table>\n",
       "</div>"
      ],
      "text/plain": [
       "   Valores de t interpolados  Resultados de Hermite Segmentado\n",
       "0                       1.25                       1685.700080\n",
       "1                       3.75                       3499.302044\n",
       "2                       6.25                       4805.436613\n",
       "3                       8.75                       5305.813337"
      ]
     },
     "execution_count": 71,
     "metadata": {},
     "output_type": "execute_result"
    }
   ],
   "source": [
    "pd.DataFrame({\"Valores de t interpolados\" : tHermite, \"Resultados de Hermite Segmentado\" : resultadosHermite})"
   ]
  },
  {
   "cell_type": "code",
   "execution_count": 72,
   "id": "41f9704e",
   "metadata": {},
   "outputs": [],
   "source": [
    "#-------------------------------------------------------------------------------------------------------------------------#"
   ]
  },
  {
   "cell_type": "markdown",
   "id": "c9c0c220",
   "metadata": {},
   "source": [
    "## Gráfico de los resultados obtenidos en la primera parte:\n",
    "### Tanto los puntos interpolados como los obtenidos por el mét. de Diferencias Regresivas de orden 4."
   ]
  },
  {
   "cell_type": "code",
   "execution_count": 73,
   "id": "e77bac0f",
   "metadata": {},
   "outputs": [
    {
     "data": {
      "text/plain": [
       "<matplotlib.legend.Legend at 0x26938ae3e20>"
      ]
     },
     "execution_count": 73,
     "metadata": {},
     "output_type": "execute_result"
    },
    {
     "data": {
      "image/png": "[encoded data removed]",
      "text/plain": [
       "<Figure size 432x288 with 1 Axes>"
      ]
     },
     "metadata": {
      "needs_background": "light"
     },
     "output_type": "display_data"
    }
   ],
   "source": [
    "# Ploteo de los puntos obtenidos por el método de las diferencias regresivas, junto con f(ti,Pi) para ese valor:\n",
    "\n",
    "for i in range(nDiferenciasRegresivasO4+1):\n",
    "    plt.scatter(tDiferenciasRegresivasO4[i], resultadosDiferenciasRegresivasOrden4[i], s = None, c = \"green\")\n",
    "    plt.scatter(tDiferenciasRegresivasO4[i], resultadosDerivadaDiferenciasRegresivasO4[i], s = None, c = \"Purple\")\n",
    "\n",
    "# Ploteo de los puntos obtenidos por Hermite:\n",
    "\n",
    "for i in range(len(tHermite)):\n",
    "    plt.scatter(tHermite[i], resultadosHermite[i], s = None, c = \"red\")\n",
    "    \n",
    "plt.title(\"Gráfica de los resultados obtenidos en la Primera parte.\")\n",
    "plt.legend([\"Mét. Diferencias Regresivas Orden 4\", \"f (ti,Pi)\"], fontsize = 8, loc = 2)"
   ]
  },
  {
   "cell_type": "markdown",
   "id": "16ef52e8",
   "metadata": {},
   "source": [
    "### En el gráfico se puede observar que los puntos obtenidos mediante la interpolación parecer acomodarse satisfactoriamente al espacio entre las aproximaciones obtenidas en el mét. de Diferencias Regresivas. Es decir, que respetan el ser valores que se encuentran entre una aproximación Pi y la siguiente. "
   ]
  },
  {
   "cell_type": "code",
   "execution_count": 74,
   "id": "af09d2c2",
   "metadata": {},
   "outputs": [],
   "source": [
    "#-------------------------------------------------------------------------------------------------------------------------#"
   ]
  },
  {
   "cell_type": "markdown",
   "id": "185ce2f2",
   "metadata": {},
   "source": [
    "# <u>Segunda Parte:<u>"
   ]
  },
  {
   "cell_type": "markdown",
   "id": "70cc3425",
   "metadata": {},
   "source": [
    "## Método de Euler Explícito:\n",
    "### Debido a que es un método de paso simple de convergencia lineal O(h^1) no necesito valores semilla además del valor inicial (Osea P0)."
   ]
  },
  {
   "cell_type": "markdown",
   "id": "a59a6c36",
   "metadata": {},
   "source": [
    "### El método de Euler Implícito es un método de Taylor. La etiqueta \"de taylor\" refiere a que proviene de aproximar por dicho método en un entorno de [t, t+h] y truncar en el término que contiene a la primera derivada (osea f(t,P), el segundo término de la aproximación). Los métodos de Euler al tener convergencia lineal suelen ser poco utilizados en contextos de precisión, funcionan más como herramientas de aprendizaje (Al menos en el estudio de los mét. para resolución de EDOs). "
   ]
  },
  {
   "cell_type": "code",
   "execution_count": 75,
   "id": "7bc66670",
   "metadata": {},
   "outputs": [],
   "source": [
    "def eulerExplicito_array(a, b, n, f, w0):\n",
    "    w = []\n",
    "    w.append(w0)\n",
    "    h = (b - a) / n\n",
    "    t0 = a\n",
    "    w1 = w0 + h*f(t0,w0)\n",
    "    w.append(w1)\n",
    "    wActual = w1\n",
    "    tActual = t0 + h\n",
    "    for i in range(1, n):\n",
    "        wAnterior = wActual\n",
    "        tAnterior = tActual\n",
    "        wActual = wAnterior + h* f(tAnterior, wAnterior)\n",
    "        tActual = tAnterior + h\n",
    "        w.append(wActual)\n",
    "    return w"
   ]
  },
  {
   "cell_type": "code",
   "execution_count": 76,
   "id": "733bce58",
   "metadata": {},
   "outputs": [],
   "source": [
    "#-------------------------------------------------------------------------------------------------------------------------#"
   ]
  },
  {
   "cell_type": "code",
   "execution_count": 77,
   "id": "385b3fd8",
   "metadata": {},
   "outputs": [],
   "source": [
    "tEulerExplicito = np.linspace(a, b, nEulerExplicito+1)\n",
    "resultadosEulerExplicito = eulerExplicito_array(a, b, nEulerExplicito, f, p0)"
   ]
  },
  {
   "cell_type": "code",
   "execution_count": 89,
   "id": "9fa83c09",
   "metadata": {},
   "outputs": [
    {
     "data": {
      "text/html": [
       "<div>\n",
       "<style scoped>\n",
       "    .dataframe tbody tr th:only-of-type {\n",
       "        vertical-align: middle;\n",
       "    }\n",
       "\n",
       "    .dataframe tbody tr th {\n",
       "        vertical-align: top;\n",
       "    }\n",
       "\n",
       "    .dataframe thead th {\n",
       "        text-align: right;\n",
       "    }\n",
       "</style>\n",
       "<table border=\"1\" class=\"dataframe\">\n",
       "  <thead>\n",
       "    <tr style=\"text-align: right;\">\n",
       "      <th></th>\n",
       "      <th>Valores de t</th>\n",
       "      <th>Aproximaciones de P obtenidas mediante el mét. de Euler Explícito</th>\n",
       "    </tr>\n",
       "  </thead>\n",
       "  <tbody>\n",
       "    <tr>\n",
       "      <th>0</th>\n",
       "      <td>0.000</td>\n",
       "      <td>1000.000000</td>\n",
       "    </tr>\n",
       "    <tr>\n",
       "      <th>1</th>\n",
       "      <td>0.125</td>\n",
       "      <td>1056.250000</td>\n",
       "    </tr>\n",
       "    <tr>\n",
       "      <th>2</th>\n",
       "      <td>0.250</td>\n",
       "      <td>1114.921387</td>\n",
       "    </tr>\n",
       "    <tr>\n",
       "      <th>3</th>\n",
       "      <td>0.375</td>\n",
       "      <td>1176.034111</td>\n",
       "    </tr>\n",
       "    <tr>\n",
       "      <th>4</th>\n",
       "      <td>0.500</td>\n",
       "      <td>1239.598253</td>\n",
       "    </tr>\n",
       "    <tr>\n",
       "      <th>...</th>\n",
       "      <td>...</td>\n",
       "      <td>...</td>\n",
       "    </tr>\n",
       "    <tr>\n",
       "      <th>76</th>\n",
       "      <td>9.500</td>\n",
       "      <td>5378.157305</td>\n",
       "    </tr>\n",
       "    <tr>\n",
       "      <th>77</th>\n",
       "      <td>9.625</td>\n",
       "      <td>5386.348420</td>\n",
       "    </tr>\n",
       "    <tr>\n",
       "      <th>78</th>\n",
       "      <td>9.750</td>\n",
       "      <td>5394.000507</td>\n",
       "    </tr>\n",
       "    <tr>\n",
       "      <th>79</th>\n",
       "      <td>9.875</td>\n",
       "      <td>5401.147524</td>\n",
       "    </tr>\n",
       "    <tr>\n",
       "      <th>80</th>\n",
       "      <td>10.000</td>\n",
       "      <td>5407.821484</td>\n",
       "    </tr>\n",
       "  </tbody>\n",
       "</table>\n",
       "<p>81 rows × 2 columns</p>\n",
       "</div>"
      ],
      "text/plain": [
       "    Valores de t  \\\n",
       "0          0.000   \n",
       "1          0.125   \n",
       "2          0.250   \n",
       "3          0.375   \n",
       "4          0.500   \n",
       "..           ...   \n",
       "76         9.500   \n",
       "77         9.625   \n",
       "78         9.750   \n",
       "79         9.875   \n",
       "80        10.000   \n",
       "\n",
       "    Aproximaciones de P obtenidas mediante el mét. de Euler Explícito  \n",
       "0                                         1000.000000                  \n",
       "1                                         1056.250000                  \n",
       "2                                         1114.921387                  \n",
       "3                                         1176.034111                  \n",
       "4                                         1239.598253                  \n",
       "..                                                ...                  \n",
       "76                                        5378.157305                  \n",
       "77                                        5386.348420                  \n",
       "78                                        5394.000507                  \n",
       "79                                        5401.147524                  \n",
       "80                                        5407.821484                  \n",
       "\n",
       "[81 rows x 2 columns]"
      ]
     },
     "execution_count": 89,
     "metadata": {},
     "output_type": "execute_result"
    }
   ],
   "source": [
    "pd.DataFrame({\"Valores de t\" : tEulerExplicito, \"Aproximaciones de P obtenidas mediante el mét. de Euler Explícito\" : resultadosEulerExplicito})"
   ]
  },
  {
   "cell_type": "code",
   "execution_count": 79,
   "id": "a7b4d4cf",
   "metadata": {},
   "outputs": [],
   "source": [
    "#-------------------------------------------------------------------------------------------------------------------------#"
   ]
  },
  {
   "cell_type": "code",
   "execution_count": 80,
   "id": "7f8aa127",
   "metadata": {},
   "outputs": [],
   "source": [
    "# Genero un array que contenga a los valores de f(ti,Pi) para las aprximaciones de P obtenidas con Euler Explícito:\n",
    "\n",
    "resultadosDerivadaEulerExplicito = []\n",
    "for i in range(nEulerExplicito+1):\n",
    "    resultadosDerivadaEulerExplicito.append(f(tEulerExplicito[i], resultadosEulerExplicito[i]))"
   ]
  },
  {
   "cell_type": "code",
   "execution_count": 96,
   "id": "4315d8f5",
   "metadata": {},
   "outputs": [
    {
     "data": {
      "text/plain": [
       "<matplotlib.legend.Legend at 0x269399a6340>"
      ]
     },
     "execution_count": 96,
     "metadata": {},
     "output_type": "execute_result"
    },
    {
     "data": {
      "image/png": "[encoded data removed]",
      "text/plain": [
       "<Figure size 432x288 with 1 Axes>"
      ]
     },
     "metadata": {
      "needs_background": "light"
     },
     "output_type": "display_data"
    }
   ],
   "source": [
    "# Ploteo de los puntos obtenidos por el método de Euler Explícito, junto con f(ti,Pi) para ese valor:\n",
    "\n",
    "for i in range(nEulerExplicito+1):\n",
    "    plt.scatter(tEulerExplicito[i], resultadosEulerExplicito[i], s = 22, c = \"orange\")\n",
    "    plt.scatter(tEulerExplicito[i], resultadosDerivadaEulerExplicito[i], s = 22, c = \"purple\")\n",
    "\n",
    "# Ploteo de los puntos obtenidos por Hermite (En la primera parte):\n",
    "\n",
    "for i in range(len(tHermite)):\n",
    "    plt.scatter(tHermite[i], resultadosHermite[i], s = None, c = \"red\")\n",
    "    \n",
    "plt.title(\"Gráfica de los resultados obtenidos en la Segunda parte.\")\n",
    "plt.legend([\"Mét. Euler Explícito\", \"f (ti,Pi)\"], fontsize = 10, loc = 2)"
   ]
  },
  {
   "cell_type": "code",
   "execution_count": 82,
   "id": "46903d24",
   "metadata": {},
   "outputs": [],
   "source": [
    "#-------------------------------------------------------------------------------------------------------------------------#"
   ]
  },
  {
   "cell_type": "markdown",
   "id": "740fca06",
   "metadata": {},
   "source": [
    "## Comparación de aproximaciones:\n",
    "### Una vez terminados ambos procesos, con el fin de comparar los resultados de ambos métodos, procedo a almacenar los valores obtenidos en la segunda parte que correspondan a los pares ti , Pi que haya interpolado en la primera parte."
   ]
  },
  {
   "cell_type": "code",
   "execution_count": 83,
   "id": "71764029",
   "metadata": {},
   "outputs": [],
   "source": [
    "resultadosComparativosEulerExplicito = []\n",
    "for i in range(len(tHermite)): # Sabiendo que el valor de i (contador de iteración) se puede obtener como: \n",
    "    indexAux = int(tHermite[i]/hEulerExplicito) # t / h = N° de iteración , lo cual es igual al index de la lista\n",
    "    resultadosComparativosEulerExplicito.append(resultadosEulerExplicito[indexAux]) # Agrego el valor que corresponde"
   ]
  },
  {
   "cell_type": "code",
   "execution_count": 84,
   "id": "9bf0e78a",
   "metadata": {},
   "outputs": [
    {
     "data": {
      "text/html": [
       "<div>\n",
       "<style scoped>\n",
       "    .dataframe tbody tr th:only-of-type {\n",
       "        vertical-align: middle;\n",
       "    }\n",
       "\n",
       "    .dataframe tbody tr th {\n",
       "        vertical-align: top;\n",
       "    }\n",
       "\n",
       "    .dataframe thead th {\n",
       "        text-align: right;\n",
       "    }\n",
       "</style>\n",
       "<table border=\"1\" class=\"dataframe\">\n",
       "  <thead>\n",
       "    <tr style=\"text-align: right;\">\n",
       "      <th></th>\n",
       "      <th>Valores de t interpolados</th>\n",
       "      <th>Resultados mediante interpolación segmentada de Hermite</th>\n",
       "      <th>Resultados mediante el mét. de Euler Explícito</th>\n",
       "    </tr>\n",
       "  </thead>\n",
       "  <tbody>\n",
       "    <tr>\n",
       "      <th>0</th>\n",
       "      <td>1.25</td>\n",
       "      <td>1685.700080</td>\n",
       "      <td>1671.556991</td>\n",
       "    </tr>\n",
       "    <tr>\n",
       "      <th>1</th>\n",
       "      <td>3.75</td>\n",
       "      <td>3499.302044</td>\n",
       "      <td>3478.579509</td>\n",
       "    </tr>\n",
       "    <tr>\n",
       "      <th>2</th>\n",
       "      <td>6.25</td>\n",
       "      <td>4805.436613</td>\n",
       "      <td>4811.143277</td>\n",
       "    </tr>\n",
       "    <tr>\n",
       "      <th>3</th>\n",
       "      <td>8.75</td>\n",
       "      <td>5305.813337</td>\n",
       "      <td>5315.524283</td>\n",
       "    </tr>\n",
       "  </tbody>\n",
       "</table>\n",
       "</div>"
      ],
      "text/plain": [
       "   Valores de t interpolados  \\\n",
       "0                       1.25   \n",
       "1                       3.75   \n",
       "2                       6.25   \n",
       "3                       8.75   \n",
       "\n",
       "   Resultados mediante interpolación segmentada de Hermite  \\\n",
       "0                                        1685.700080         \n",
       "1                                        3499.302044         \n",
       "2                                        4805.436613         \n",
       "3                                        5305.813337         \n",
       "\n",
       "   Resultados mediante el mét. de Euler Explícito  \n",
       "0                                     1671.556991  \n",
       "1                                     3478.579509  \n",
       "2                                     4811.143277  \n",
       "3                                     5315.524283  "
      ]
     },
     "execution_count": 84,
     "metadata": {},
     "output_type": "execute_result"
    }
   ],
   "source": [
    "pd.DataFrame({\"Valores de t interpolados\" : tHermite, \"Resultados mediante interpolación segmentada de Hermite\" : resultadosHermite, \"Resultados mediante el mét. de Euler Explícito\" : resultadosComparativosEulerExplicito})"
   ]
  },
  {
   "cell_type": "code",
   "execution_count": 85,
   "id": "e749cdf9",
   "metadata": {},
   "outputs": [],
   "source": [
    "#-------------------------------------------------------------------------------------------------------------------------#"
   ]
  },
  {
   "cell_type": "markdown",
   "id": "7d0ff667",
   "metadata": {},
   "source": [
    "# Conclusiones finales:"
   ]
  },
  {
   "cell_type": "markdown",
   "id": "b26907cd",
   "metadata": {},
   "source": [
    "### Una vez finalizados los apartados del trabajo individual, la opinión que forme fue la siguiente; Si bien no dispongo de los resultados exactos de la función P(t) en los diferentes ti que interpole luego de utilizar el método de las Diferencias Regresivas, y que posteriormente compare con el método de Euler Explícito, es seguro estimar que los resultados que más se acerquen a la verdadera naturaleza de P(t) sean los que devolvió Hermite Segmentado. Esto fundamentado sobre el hecho de que ambos métodos empleados son de orden 4, mientras que el método de Euler Explícito es de orden 1. Las diferencias entre los resultados de ambos apartados no son abismales, dependiendo del contexto hasta incluso podrían ser útiles ambas, pero también cabe destacar que se necesitaron 60 iteraciones más del método de Euler Explícito para lograr dichos resultados. No obstante también es cierto que se necesito interpolar sobre los valores de Diferencias Regresivas (Orden 4) para poder obtener los valores de t pedidos."
   ]
  },
  {
   "cell_type": "markdown",
   "id": "60d16c43",
   "metadata": {},
   "source": [
    "### En resumen, que metodología de trabajo fue la más adecuada dependerá de que tipo de datos se quieran obtener, en que contexto se necesiten y cual es la precisión requerida. Aunque personalmente optaría por trabajar con la metodología de Diferencias Regresivas Orden 4 + Hermite Segmentado, ya que al menos según la teoría debería representar mejor la situación real a analizar."
   ]
  },
  {
   "cell_type": "code",
   "execution_count": null,
   "id": "d1865e73",
   "metadata": {},
   "outputs": [],
   "source": [
    "#-------------------------------------------------------------------------------------------------------------------------#"
   ]
  }
 ],
 "metadata": {
  "kernelspec": {
   "display_name": "Python 3",
   "language": "python",
   "name": "python3"
  },
  "language_info": {
   "codemirror_mode": {
    "name": "ipython",
    "version": 3
   },
   "file_extension": ".py",
   "mimetype": "text/x-python",
   "name": "python",
   "nbconvert_exporter": "python",
   "pygments_lexer": "ipython3",
   "version": "3.8.8"
  }
 },
 "nbformat": 4,
 "nbformat_minor": 5
}
